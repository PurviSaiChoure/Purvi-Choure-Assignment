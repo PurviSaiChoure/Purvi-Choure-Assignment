{
 "cells": [
  {
   "cell_type": "code",
   "execution_count": 1,
   "id": "013553d3",
   "metadata": {},
   "outputs": [],
   "source": [
    "import pandas as pd\n",
    "import numpy as np\n",
    "from sklearn.preprocessing import StandardScaler, LabelEncoder\n",
    "from sklearn.model_selection import train_test_split\n",
    "from sklearn.ensemble import RandomForestClassifier\n",
    "from sklearn.metrics import accuracy_score, precision_score, recall_score, f1_score\n",
    "from sklearn.neighbors import NearestNeighbors\n",
    "import matplotlib.pyplot as plt\n",
    "import seaborn as sns\n",
    "from datetime import datetime"
   ]
  },
  {
   "cell_type": "code",
   "execution_count": 2,
   "id": "e34a5c15",
   "metadata": {},
   "outputs": [],
   "source": [
    "customers = pd.read_csv(\"Customers.csv\")\n",
    "products = pd.read_csv(\"Products.csv\")\n",
    "transactions = pd.read_csv(\"Transactions.csv\")\n",
    "\n",
    "df = transactions.merge(products, on=\"ProductID\", how=\"left\")\n",
    "df = df.merge(customers, on=\"CustomerID\", how=\"left\")"
   ]
  },
  {
   "cell_type": "code",
   "execution_count": 3,
   "id": "edfb0a4d",
   "metadata": {},
   "outputs": [],
   "source": [
    "def preprocess_data(df):\n",
    "    df['TransactionDate'] = pd.to_datetime(df['TransactionDate'])\n",
    "    df['SignupDate'] = pd.to_datetime(df['SignupDate'])\n",
    "    customer_features = df.groupby('CustomerID').agg({\n",
    "        'TotalValue': ['sum', 'mean', 'count'],\n",
    "        'Quantity': ['sum', 'mean'],\n",
    "        'ProductID': 'nunique',\n",
    "        'Category': lambda x: len(x.unique()),\n",
    "        'Region': 'first',\n",
    "        'SignupDate': 'first'\n",
    "    }).reset_index()\n",
    "    \n",
    "    customer_features.columns = ['CustomerID', 'total_spend', 'avg_transaction_value', \n",
    "                               'transaction_count', 'total_quantity', 'avg_quantity',\n",
    "                               'unique_products', 'unique_categories', 'region', 'signup_date']\n",
    "\n",
    "    customer_features['account_age'] = (pd.Timestamp('2024-08-25') - \n",
    "                                      customer_features['signup_date']).dt.days\n",
    "    customer_features['purchase_frequency'] = (customer_features['transaction_count'] / \n",
    "                                             customer_features['account_age'])\n",
    "    \n",
    "    customer_features['avg_spend_per_category'] = (customer_features['total_spend'] / \n",
    "                                                 customer_features['unique_categories'])\n",
    "    \n",
    "    region_dummies = pd.get_dummies(customer_features['region'], prefix='region')\n",
    "    customer_features = pd.concat([customer_features, region_dummies], axis=1)\n",
    "    customer_features = customer_features.drop(['region', 'signup_date'], axis=1)\n",
    "    \n",
    "    return customer_features"
   ]
  },
  {
   "cell_type": "code",
   "execution_count": 4,
   "id": "d0e589ba",
   "metadata": {},
   "outputs": [],
   "source": [
    "class LookalikeModel:\n",
    "    def __init__(self, n_neighbors=3):\n",
    "        self.scaler = StandardScaler()\n",
    "        self.rf_classifier = RandomForestClassifier(n_estimators=100, random_state=42)\n",
    "        self.knn = NearestNeighbors(n_neighbors=n_neighbors+1, metric='cosine')\n",
    "        self.n_neighbors = n_neighbors\n",
    "        \n",
    "    def create_customer_segments(self, X):\n",
    "        X_copy = X.copy()\n",
    "        X_copy['spend_segment'] = pd.qcut(X_copy['total_spend'], q=3, labels=['low', 'medium', 'high'])\n",
    "        X_copy['frequency_segment'] = pd.qcut(X_copy['purchase_frequency'], q=3, labels=['low', 'medium', 'high'])\n",
    "        X_copy['customer_segment'] = X_copy['spend_segment'].astype(str) + \"_\" + X_copy['frequency_segment'].astype(str)\n",
    "        self.label_encoder = LabelEncoder()\n",
    "        labels = self.label_encoder.fit_transform(X_copy['customer_segment'])\n",
    "        \n",
    "        return labels\n",
    "    \n",
    "    def fit(self, X):\n",
    "        self.labels = self.create_customer_segments(X)\n",
    "        self.X_scaled = self.scaler.fit_transform(X)\n",
    "        X_train, X_test, y_train, y_test = train_test_split(\n",
    "            self.X_scaled, self.labels, test_size=0.2, random_state=42\n",
    "        )\n",
    "        self.rf_classifier.fit(X_train, y_train)\n",
    "        y_pred = self.rf_classifier.predict(X_test)\n",
    "        self.metrics = {\n",
    "            'accuracy': accuracy_score(y_test, y_pred),\n",
    "            'precision': precision_score(y_test, y_pred, average='weighted'),\n",
    "            'recall': recall_score(y_test, y_pred, average='weighted'),\n",
    "            'f1': f1_score(y_test, y_pred, average='weighted')\n",
    "        }\n",
    "        self.knn.fit(self.X_scaled)\n",
    "        return self\n",
    "    \n",
    "    def get_lookalikes(self, customer_idx):\n",
    "        distances, indices = self.knn.kneighbors(self.X_scaled[customer_idx].reshape(1, -1))\n",
    "        return indices[0][1:], 1 - distances[0][1:]  \n",
    "    def get_feature_importance(self, feature_names):\n",
    "        importance = pd.DataFrame({\n",
    "            'feature': feature_names,\n",
    "            'importance': self.rf_classifier.feature_importances_\n",
    "        })\n",
    "        return importance.sort_values('importance', ascending=False)"
   ]
  },
  {
   "cell_type": "code",
   "execution_count": 8,
   "id": "4ba16cf7",
   "metadata": {},
   "outputs": [],
   "source": [
    "def plot_metrics(metrics):\n",
    "    plt.figure(figsize=(10, 6))\n",
    "    plt.bar(metrics.keys(), metrics.values())\n",
    "    plt.title('Model Performance Metrics')\n",
    "    plt.ylabel('Score')\n",
    "    plt.ylim(0, 1)\n",
    "    plt.xticks(rotation=45)\n",
    "    plt.tight_layout()\n",
    "    plt.savefig('model_metrics.png')\n",
    "    plt.close()\n",
    "    plt.show()\n",
    "\n",
    "def format_recommendations(customer_id, recommendations):\n",
    "    \"\"\"Format recommendations as per required map structure\"\"\"\n",
    "    rec_str = f\"{customer_id}->[\"\n",
    "    for i, rec in enumerate(recommendations):\n",
    "        rec_str += f\"({rec['similar_customer']},{rec['similarity_score']:.4f})\"\n",
    "        if i < len(recommendations) - 1:\n",
    "            rec_str += \",\"\n",
    "    rec_str += \"]\"\n",
    "    return rec_str"
   ]
  },
  {
   "cell_type": "code",
   "execution_count": 6,
   "id": "e92e77cc",
   "metadata": {},
   "outputs": [],
   "source": [
    "def main():\n",
    "    \n",
    "    # Preprocess the data\n",
    "    customer_features = preprocess_data(df)\n",
    "    customer_ids = customer_features['CustomerID']\n",
    "    features = customer_features.drop('CustomerID', axis=1)\n",
    "    model = LookalikeModel(n_neighbors=3)\n",
    "    model.fit(features)\n",
    "    print(\"\\nModel Evaluation Metrics:\")\n",
    "    for metric, value in model.metrics.items():\n",
    "        print(f\"{metric}: {value:.4f}\")\n",
    "    \n",
    "    feature_importance = model.get_feature_importance(features.columns)\n",
    "    plt.figure(figsize=(12, 6))\n",
    "    sns.barplot(x='importance', y='feature', data=feature_importance.head(10))\n",
    "    plt.title('Top 10 Most Important Features')\n",
    "    plt.tight_layout()\n",
    "    plt.savefig('feature_importance.png')\n",
    "    plt.close()\n",
    "    results = []\n",
    "    for customer_id in [f'C{str(i).zfill(4)}' for i in range(1, 21)]:\n",
    "        if customer_id in customer_ids.values:\n",
    "            idx = customer_ids[customer_ids == customer_id].index[0]\n",
    "            similar_indices, similarity_scores = model.get_lookalikes(idx)\n",
    "            recommendations = [\n",
    "                {'similar_customer': customer_ids.iloc[idx], 'similarity_score': score}\n",
    "                for idx, score in zip(similar_indices, similarity_scores)\n",
    "            ]\n",
    "            map_string = format_recommendations(customer_id, recommendations)\n",
    "            results.append(map_string)\n",
    "    output_df = pd.DataFrame({'Map': results})\n",
    "    output_df.to_csv('Lookalike.csv', index=False)\n",
    "    from IPython.display import FileLink\n",
    "    display(FileLink('Lookalike.csv'))\n",
    " \n",
    "    plot_metrics(model.metrics)\n",
    "    return output_df, model.metrics"
   ]
  },
  {
   "cell_type": "code",
   "execution_count": 7,
   "id": "b13be320",
   "metadata": {},
   "outputs": [
    {
     "name": "stdout",
     "output_type": "stream",
     "text": [
      "\n",
      "Model Evaluation Metrics:\n",
      "accuracy: 0.9500\n",
      "precision: 0.9542\n",
      "recall: 0.9500\n",
      "f1: 0.9486\n"
     ]
    },
    {
     "data": {
      "text/html": [
       "<a href='Lookalike.csv' target='_blank'>Lookalike.csv</a><br>"
      ],
      "text/plain": [
       "C:\\Users\\purvi\\Lookalike.csv"
      ]
     },
     "metadata": {},
     "output_type": "display_data"
    },
    {
     "name": "stdout",
     "output_type": "stream",
     "text": [
      "\n",
      "Results saved to Lookalike.csv\n",
      "\n",
      "Sample of results format:\n",
      "                                                 Map\n",
      "0  C0001->[(C0174,0.9568),(C0152,0.9496),(C0107,0...\n",
      "1  C0002->[(C0159,0.9080),(C0005,0.9065),(C0106,0...\n",
      "2  C0003->[(C0129,0.8601),(C0190,0.7665),(C0091,0...\n",
      "3  C0004->[(C0099,0.9335),(C0165,0.9236),(C0102,0...\n",
      "4  C0005->[(C0159,0.9803),(C0007,0.9356),(C0002,0...\n"
     ]
    }
   ],
   "source": [
    "if __name__ == \"__main__\":\n",
    "    results_df, metrics = main()\n",
    "    print(\"\\nResults saved to Lookalike.csv\")\n",
    "    print(\"\\nSample of results format:\")\n",
    "    print(results_df.head())"
   ]
  },
  {
   "cell_type": "code",
   "execution_count": 15,
   "id": "899bf80f",
   "metadata": {},
   "outputs": [
    {
     "name": "stdout",
     "output_type": "stream",
     "text": [
      "Model Evaluation Metrics:\n",
      "accuracy: 0.9500\n",
      "precision: 0.9542\n",
      "recall: 0.9500\n",
      "f1: 0.9486\n"
     ]
    },
    {
     "data": {
      "image/png": "[encoded data removed]",
      "text/plain": [
       "<Figure size 1000x600 with 1 Axes>"
      ]
     },
     "metadata": {},
     "output_type": "display_data"
    }
   ],
   "source": [
    "import matplotlib.pyplot as plt\n",
    "import seaborn as sns\n",
    "\n",
    "def plot_metrics(metrics):\n",
    "    sns.set(style=\"whitegrid\")\n",
    "    plt.figure(figsize=(10, 6))\n",
    "    bars = plt.bar(metrics.keys(), metrics.values(), color=sns.color_palette(\"Blues\", n_colors=len(metrics)))\n",
    "    for bar in bars:\n",
    "        height = bar.get_height()\n",
    "        plt.text(bar.get_x() + bar.get_width() / 2., height + 0.01, \n",
    "                 f'{height:.4f}',\n",
    "                 ha='center', va='bottom', fontsize=12, color='black', fontweight='bold')\n",
    "    plt.title('Model Performance Metrics', fontsize=16, fontweight='bold')\n",
    "    plt.ylabel('Score', fontsize=14, fontweight='bold')\n",
    "    plt.xlabel('Metrics', fontsize=14, fontweight='bold')\n",
    "    plt.ylim(0, 1.05)  \n",
    "\n",
    "    plt.xticks(rotation=45, fontsize=12)\n",
    "    plt.tight_layout()\n",
    "    plt.savefig('model_metrics_beautiful.png')\n",
    "    plt.show()\n",
    "    plt.close()\n",
    "model_evaluation_metrics = {\n",
    "    'accuracy': 0.9500,\n",
    "    'precision': 0.9542,\n",
    "    'recall': 0.9500,\n",
    "    'f1': 0.9486\n",
    "}\n",
    "print(\"Model Evaluation Metrics:\")\n",
    "for metric, value in model_evaluation_metrics.items():\n",
    "    print(f\"{metric}: {value:.4f}\")\n",
    "plot_metrics(model_evaluation_metrics)"
   ]
  },
  {
   "cell_type": "code",
   "execution_count": null,
   "id": "de3a8b76",
   "metadata": {},
   "outputs": [],
   "source": []
  }
 ],
 "metadata": {
  "kernelspec": {
   "display_name": "Python 3 (ipykernel)",
   "language": "python",
   "name": "python3"
  },
  "language_info": {
   "codemirror_mode": {
    "name": "ipython",
    "version": 3
   },
   "file_extension": ".py",
   "mimetype": "text/x-python",
   "name": "python",
   "nbconvert_exporter": "python",
   "pygments_lexer": "ipython3",
   "version": "3.9.13"
  }
 },
 "nbformat": 4,
 "nbformat_minor": 5
}
